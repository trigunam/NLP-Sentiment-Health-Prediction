{
  "nbformat": 4,
  "nbformat_minor": 0,
  "metadata": {
    "colab": {
      "provenance": []
    },
    "kernelspec": {
      "name": "python3",
      "display_name": "Python 3"
    },
    "language_info": {
      "name": "python"
    },
    "accelerator": "GPU"
  },
  "cells": [
    {
      "cell_type": "code",
      "execution_count": 21,
      "metadata": {
        "id": "KXE4ZbA6vdBt"
      },
      "outputs": [],
      "source": [
        "import tensorflow as tf\n",
        "from tensorflow import keras\n",
        "from tensorflow.keras import layers\n",
        "  \n",
        "class TransformerEncoder(layers.Layer):\n",
        "    def __init__(self, embed_dim, dense_dim, num_heads, **kwargs):\n",
        "        super().__init__(**kwargs)\n",
        "        self.embed_dim = embed_dim                         \n",
        "        self.dense_dim = dense_dim                         \n",
        "        self.num_heads = num_heads                         \n",
        "        self.attention = layers.MultiHeadAttention(\n",
        "            num_heads=num_heads, key_dim=embed_dim)\n",
        "        self.dense_proj = keras.Sequential(\n",
        "            [layers.Dense(dense_dim, activation=\"relu\"),\n",
        "             layers.Dense(embed_dim),]\n",
        "        )\n",
        "        self.layernorm_1 = layers.LayerNormalization()\n",
        "        self.layernorm_2 = layers.LayerNormalization()\n",
        "    def call(self, inputs, mask=None):                    \n",
        "        if mask is not None:                              \n",
        "            mask = mask[:, tf.newaxis, :]                 \n",
        "        attention_output = self.attention(\n",
        "            inputs, inputs, attention_mask=mask)\n",
        "        proj_input = self.layernorm_1(inputs + attention_output)\n",
        "        proj_output = self.dense_proj(proj_input)\n",
        "        return self.layernorm_2(proj_input + proj_output)\n",
        "  \n",
        "    def get_config(self):                                 \n",
        "        config = super().get_config()\n",
        "        config.update({\n",
        "            \"embed_dim\": self.embed_dim,\n",
        "            \"num_heads\": self.num_heads,\n",
        "            \"dense_dim\": self.dense_dim,\n",
        "        })\n",
        "        return config"
      ]
    },
    {
      "cell_type": "code",
      "source": [],
      "metadata": {
        "id": "C6pTbRMkKcHX"
      },
      "execution_count": 21,
      "outputs": []
    },
    {
      "cell_type": "code",
      "source": [
        "vocab_size = 20000 \n",
        "embed_dim = 256 \n",
        "num_heads = 2 \n",
        "dense_dim = 32 \n",
        "  \n",
        "inputs = keras.Input(shape=(None,), dtype=\"int64\")\n",
        "x = layers.Embedding(vocab_size, embed_dim)(inputs)\n",
        "x = TransformerEncoder(embed_dim, dense_dim, num_heads)(x)\n",
        "x = layers.GlobalMaxPooling1D()(x)                          \n",
        "x = layers.Dropout(0.5)(x)\n",
        "outputs = layers.Dense(1, activation=\"sigmoid\")(x)\n",
        "model = keras.Model(inputs, outputs)\n",
        "model.compile(optimizer=\"rmsprop\",\n",
        "              loss=\"binary_crossentropy\",\n",
        "              metrics=[\"accuracy\"])\n",
        "model.summary()"
      ],
      "metadata": {
        "colab": {
          "base_uri": "https://localhost:8080/"
        },
        "id": "iTm0nmXwK1Ho",
        "outputId": "e93d23bc-5b1d-4f2b-b2b8-bb0f9c8c1224"
      },
      "execution_count": 22,
      "outputs": [
        {
          "output_type": "stream",
          "name": "stdout",
          "text": [
            "Model: \"model_1\"\n",
            "_________________________________________________________________\n",
            " Layer (type)                Output Shape              Param #   \n",
            "=================================================================\n",
            " input_2 (InputLayer)        [(None, None)]            0         \n",
            "                                                                 \n",
            " embedding_5 (Embedding)     (None, None, 256)         5120000   \n",
            "                                                                 \n",
            " transformer_encoder_1 (Tran  (None, None, 256)        543776    \n",
            " sformerEncoder)                                                 \n",
            "                                                                 \n",
            " global_max_pooling1d_1 (Glo  (None, 256)              0         \n",
            " balMaxPooling1D)                                                \n",
            "                                                                 \n",
            " dropout_1 (Dropout)         (None, 256)               0         \n",
            "                                                                 \n",
            " dense_9 (Dense)             (None, 1)                 257       \n",
            "                                                                 \n",
            "=================================================================\n",
            "Total params: 5,664,033\n",
            "Trainable params: 5,664,033\n",
            "Non-trainable params: 0\n",
            "_________________________________________________________________\n"
          ]
        }
      ]
    },
    {
      "cell_type": "code",
      "source": [
        "!curl -O https://ai.stanford.edu/~amaas/data/sentiment/aclImdb_v1.tar.gz\n",
        "!tar -xf aclImdb_v1.tar.gz"
      ],
      "metadata": {
        "colab": {
          "base_uri": "https://localhost:8080/"
        },
        "id": "T9A5R0cELypO",
        "outputId": "513aded1-2241-4953-b1be-5fbc8b25dfd1"
      },
      "execution_count": 23,
      "outputs": [
        {
          "output_type": "stream",
          "name": "stdout",
          "text": [
            "  % Total    % Received % Xferd  Average Speed   Time    Time     Time  Current\n",
            "                                 Dload  Upload   Total   Spent    Left  Speed\n",
            "100 80.2M  100 80.2M    0     0  9209k      0  0:00:08  0:00:08 --:--:-- 16.5M\n"
          ]
        }
      ]
    },
    {
      "cell_type": "code",
      "source": [
        "!rm -r aclImdb/train/unsup"
      ],
      "metadata": {
        "id": "rf7WRWUmL3pd"
      },
      "execution_count": 24,
      "outputs": []
    },
    {
      "cell_type": "code",
      "source": [
        "!cat aclImdb/train/pos/4077_10.txt"
      ],
      "metadata": {
        "colab": {
          "base_uri": "https://localhost:8080/"
        },
        "id": "SrNKBbZIL6zE",
        "outputId": "088d5ae1-f701-41e0-c8a3-20ba30ad2fef"
      },
      "execution_count": 25,
      "outputs": [
        {
          "output_type": "stream",
          "name": "stdout",
          "text": [
            "I first saw this back in the early 90s on UK TV, i did like it then but i missed the chance to tape it, many years passed but the film always stuck with me and i lost hope of seeing it TV again, the main thing that stuck with me was the end, the hole castle part really touched me, its easy to watch, has a great story, great music, the list goes on and on, its OK me saying how good it is but everyone will take there own best bits away with them once they have seen it, yes the animation is top notch and beautiful to watch, it does show its age in a very few parts but that has now become part of it beauty, i am so glad it has came out on DVD as it is one of my top 10 films of all time. Buy it or rent it just see it, best viewing is at night alone with drink and food in reach so you don't have to stop the film.<br /><br />Enjoy"
          ]
        }
      ]
    },
    {
      "cell_type": "code",
      "source": [
        "import os, pathlib, shutil, random\n",
        "  \n",
        "base_dir = pathlib.Path(\"aclImdb\")\n",
        "val_dir = base_dir / \"val\" \n",
        "train_dir = base_dir / \"train\" \n",
        "for category in (\"neg\", \"pos\"):\n",
        "    #os.makedirs(val_dir / category)\n",
        "    files = os.listdir(train_dir / category)\n",
        "    random.Random(1337).shuffle(files)              \n",
        "    num_val_samples = int(0.2 * len(files))         \n",
        "    val_files = files[-num_val_samples:]            \n",
        "    for fname in val_files:                         \n",
        "        shutil.move(train_dir / category / fname,   \n",
        "                    val_dir / category / fname)     "
      ],
      "metadata": {
        "id": "aTvd02_oLx9D"
      },
      "execution_count": 27,
      "outputs": []
    },
    {
      "cell_type": "code",
      "source": [
        "from tensorflow import keras\n",
        "batch_size = 32 \n",
        "  \n",
        "train_ds = keras.utils.text_dataset_from_directory(     \n",
        "    \"aclImdb/train\", batch_size=batch_size\n",
        ")\n",
        "val_ds = keras.utils.text_dataset_from_directory(\n",
        "    \"aclImdb/val\", batch_size=batch_size\n",
        ")\n",
        "test_ds = keras.utils.text_dataset_from_directory(\n",
        "    \"aclImdb/test\", batch_size=batch_size\n",
        ")"
      ],
      "metadata": {
        "colab": {
          "base_uri": "https://localhost:8080/"
        },
        "id": "xsBySyCTLuvH",
        "outputId": "59660987-1cc9-42d5-820c-5b5574e72aa6"
      },
      "execution_count": 28,
      "outputs": [
        {
          "output_type": "stream",
          "name": "stdout",
          "text": [
            "Found 20000 files belonging to 2 classes.\n",
            "Found 5000 files belonging to 2 classes.\n",
            "Found 25000 files belonging to 2 classes.\n"
          ]
        }
      ]
    },
    {
      "cell_type": "code",
      "source": [
        "from keras.layers import TextVectorization\n",
        "\n",
        "\n",
        "\n",
        "text_vectorization = TextVectorization(\n",
        "    max_tokens=20000,                               \n",
        "    output_mode=\"multi_hot\",                        \n",
        ")\n",
        "text_only_train_ds = train_ds.map(lambda x, y: x)   \n",
        "text_vectorization.adapt(text_only_train_ds)        \n",
        " \n",
        "binary_1gram_train_ds = train_ds.map(               \n",
        "    lambda x, y: (text_vectorization(x), y),        \n",
        "    num_parallel_calls=4)                           \n",
        "binary_1gram_val_ds = val_ds.map(                   \n",
        "    lambda x, y: (text_vectorization(x), y),        \n",
        "    num_parallel_calls=4)                           \n",
        "binary_1gram_test_ds = test_ds.map(                 \n",
        "    lambda x, y: (text_vectorization(x), y),        \n",
        "    num_parallel_calls=4)\n",
        "\n",
        "vocab = text_vectorization.get_vocabulary()\n",
        "\n",
        "with open(\"vocab.txt\", 'w') as f:\n",
        "  f.write(str(vocab))\n",
        "  f.close()"
      ],
      "metadata": {
        "id": "o6OMXj1GLjkb"
      },
      "execution_count": 29,
      "outputs": []
    },
    {
      "cell_type": "code",
      "source": [
        "from tensorflow.keras import layers\n",
        "  \n",
        "max_length = 600 \n",
        "max_tokens = 20000 \n",
        "text_vectorization = layers.TextVectorization(\n",
        "    max_tokens=max_tokens,\n",
        "    output_mode=\"int\",\n",
        "    output_sequence_length=max_length,     \n",
        ")\n",
        "text_vectorization.adapt(text_only_train_ds)\n",
        " \n",
        "int_train_ds = train_ds.map(\n",
        "    lambda x, y: (text_vectorization(x), y),\n",
        "    num_parallel_calls=4)\n",
        "int_val_ds = val_ds.map(\n",
        "    lambda x, y: (text_vectorization(x), y),\n",
        "    num_parallel_calls=4)\n",
        "int_test_ds = test_ds.map(\n",
        "    lambda x, y: (text_vectorization(x), y),\n",
        "    num_parallel_calls=4)"
      ],
      "metadata": {
        "id": "ZjGFpgWvLQg-"
      },
      "execution_count": 30,
      "outputs": []
    },
    {
      "cell_type": "code",
      "source": [
        "callbacks = [\n",
        "    keras.callbacks.ModelCheckpoint(\"transformer_encoder.keras\",\n",
        "                                    save_best_only=True)\n",
        "]\n",
        "model.fit(int_train_ds, validation_data=int_val_ds, epochs=20,\n",
        "          callbacks=callbacks)\n",
        "model = keras.models.load_model(\n",
        "    \"transformer_encoder.keras\",\n",
        "    custom_objects={\"TransformerEncoder\": TransformerEncoder})\n",
        "print(f\"Test acc: {model.evaluate(int_test_ds)[1]:.3f}\")"
      ],
      "metadata": {
        "colab": {
          "base_uri": "https://localhost:8080/"
        },
        "id": "flAq3QW6LGBI",
        "outputId": "7d0d662d-e56b-49ef-d82d-0ea710a83a3b"
      },
      "execution_count": 31,
      "outputs": [
        {
          "output_type": "stream",
          "name": "stdout",
          "text": [
            "Epoch 1/20\n",
            "625/625 [==============================] - 83s 122ms/step - loss: 0.4954 - accuracy: 0.7675 - val_loss: 0.3852 - val_accuracy: 0.8312\n",
            "Epoch 2/20\n",
            "625/625 [==============================] - 57s 90ms/step - loss: 0.3336 - accuracy: 0.8569 - val_loss: 0.3343 - val_accuracy: 0.8542\n",
            "Epoch 3/20\n",
            "625/625 [==============================] - 50s 80ms/step - loss: 0.2951 - accuracy: 0.8753 - val_loss: 0.3255 - val_accuracy: 0.8654\n",
            "Epoch 4/20\n",
            "625/625 [==============================] - 47s 75ms/step - loss: 0.2602 - accuracy: 0.8925 - val_loss: 0.3239 - val_accuracy: 0.8660\n",
            "Epoch 5/20\n",
            "625/625 [==============================] - 45s 72ms/step - loss: 0.2337 - accuracy: 0.9047 - val_loss: 0.3383 - val_accuracy: 0.8682\n",
            "Epoch 6/20\n",
            "625/625 [==============================] - 45s 71ms/step - loss: 0.2074 - accuracy: 0.9185 - val_loss: 0.3303 - val_accuracy: 0.8662\n",
            "Epoch 7/20\n",
            "625/625 [==============================] - 47s 75ms/step - loss: 0.1771 - accuracy: 0.9312 - val_loss: 0.3620 - val_accuracy: 0.8638\n",
            "Epoch 8/20\n",
            "625/625 [==============================] - 44s 71ms/step - loss: 0.1462 - accuracy: 0.9448 - val_loss: 0.3746 - val_accuracy: 0.8642\n",
            "Epoch 9/20\n",
            "625/625 [==============================] - 44s 71ms/step - loss: 0.1224 - accuracy: 0.9547 - val_loss: 0.4124 - val_accuracy: 0.8584\n",
            "Epoch 10/20\n",
            "625/625 [==============================] - 44s 70ms/step - loss: 0.1001 - accuracy: 0.9643 - val_loss: 0.4114 - val_accuracy: 0.8632\n",
            "Epoch 11/20\n",
            "625/625 [==============================] - 43s 68ms/step - loss: 0.0774 - accuracy: 0.9722 - val_loss: 0.4724 - val_accuracy: 0.8554\n",
            "Epoch 12/20\n",
            "625/625 [==============================] - 43s 68ms/step - loss: 0.0577 - accuracy: 0.9803 - val_loss: 0.4445 - val_accuracy: 0.8604\n",
            "Epoch 13/20\n",
            "625/625 [==============================] - 43s 69ms/step - loss: 0.0476 - accuracy: 0.9825 - val_loss: 0.5874 - val_accuracy: 0.8526\n",
            "Epoch 14/20\n",
            "625/625 [==============================] - 43s 68ms/step - loss: 0.0398 - accuracy: 0.9862 - val_loss: 0.6335 - val_accuracy: 0.8502\n",
            "Epoch 15/20\n",
            "625/625 [==============================] - 43s 68ms/step - loss: 0.0326 - accuracy: 0.9884 - val_loss: 0.6426 - val_accuracy: 0.8444\n",
            "Epoch 16/20\n",
            "625/625 [==============================] - 43s 68ms/step - loss: 0.0257 - accuracy: 0.9909 - val_loss: 0.6508 - val_accuracy: 0.8558\n",
            "Epoch 17/20\n",
            "625/625 [==============================] - 44s 71ms/step - loss: 0.0210 - accuracy: 0.9928 - val_loss: 0.7011 - val_accuracy: 0.8550\n",
            "Epoch 18/20\n",
            "625/625 [==============================] - 43s 68ms/step - loss: 0.0227 - accuracy: 0.9920 - val_loss: 0.8168 - val_accuracy: 0.8464\n",
            "Epoch 19/20\n",
            "625/625 [==============================] - 44s 70ms/step - loss: 0.0200 - accuracy: 0.9933 - val_loss: 0.7664 - val_accuracy: 0.8540\n",
            "Epoch 20/20\n",
            "625/625 [==============================] - 42s 68ms/step - loss: 0.0182 - accuracy: 0.9932 - val_loss: 0.8202 - val_accuracy: 0.8542\n",
            "782/782 [==============================] - 19s 24ms/step - loss: 0.2961 - accuracy: 0.8732\n",
            "Test acc: 0.873\n"
          ]
        }
      ]
    },
    {
      "cell_type": "code",
      "source": [
        "class PositionalEmbedding(layers.Layer):\n",
        "    def __init__(self, sequence_length, input_dim, output_dim, **kwargs):  \n",
        "        super().__init__(**kwargs)\n",
        "        self.token_embeddings = layers.Embedding(                          \n",
        "            input_dim=input_dim, output_dim=output_dim)\n",
        "        self.position_embeddings = layers.Embedding(\n",
        "            input_dim=sequence_length, output_dim=output_dim)              \n",
        "        self.sequence_length = sequence_length\n",
        "        self.input_dim = input_dim\n",
        "        self.output_dim = output_dim\n",
        "\n",
        "    def call(self, inputs):\n",
        "        length = tf.shape(inputs)[-1]\n",
        "        positions = tf.range(start=0, limit=length, delta=1)\n",
        "        embedded_tokens = self.token_embeddings(inputs)\n",
        "        embedded_positions = self.position_embeddings(positions)\n",
        "        return embedded_tokens + embedded_positions                        \n",
        " \n",
        "    def compute_mask(self, inputs, mask=None):                             \n",
        "        return tf.math.not_equal(inputs, 0)                                \n",
        " \n",
        "    def get_config(self):                                                  \n",
        "        config = super().get_config()\n",
        "        config.update({\n",
        "            \"output_dim\": self.output_dim,\n",
        "            \"sequence_length\": self.sequence_length,\n",
        "            \"input_dim\": self.input_dim,\n",
        "        })\n",
        "        return config    "
      ],
      "metadata": {
        "id": "xzYLd2J2LF3l"
      },
      "execution_count": 32,
      "outputs": []
    },
    {
      "cell_type": "code",
      "source": [
        "vocab_size = 20000 \n",
        "sequence_length = 600 \n",
        "embed_dim = 256 \n",
        "num_heads = 2 \n",
        "dense_dim = 32 \n",
        "  \n",
        "inputs = keras.Input(shape=(None,), dtype=\"int64\")\n",
        "x = PositionalEmbedding(sequence_length, vocab_size, embed_dim)(inputs)\n",
        "x = TransformerEncoder(embed_dim, dense_dim, num_heads)(x)\n",
        "x = layers.GlobalMaxPooling1D()(x)\n",
        "x = layers.Dropout(0.5)(x)\n",
        "outputs = layers.Dense(1, activation=\"sigmoid\")(x)\n",
        "model = keras.Model(inputs, outputs)\n",
        "model.compile(optimizer=\"rmsprop\",\n",
        "              loss=\"binary_crossentropy\",\n",
        "              metrics=[\"accuracy\"])\n",
        "model.summary()\n",
        "  \n",
        "callbacks = [\n",
        "    keras.callbacks.ModelCheckpoint(\"full_transformer_encoder.keras\",\n",
        "                                    save_best_only=True)\n",
        "] \n",
        "model.fit(int_train_ds, validation_data=int_val_ds, epochs=20, callbacks=callbacks)\n",
        "model = keras.models.load_model(\n",
        "    \"full_transformer_encoder.keras\",\n",
        "    custom_objects={\"TransformerEncoder\": TransformerEncoder,\n",
        "                    \"PositionalEmbedding\": PositionalEmbedding}) \n",
        "print(f\"Test acc: {model.evaluate(int_test_ds)[1]:.3f}\")"
      ],
      "metadata": {
        "colab": {
          "base_uri": "https://localhost:8080/"
        },
        "id": "u_kUxfNuYsZh",
        "outputId": "c3fa612c-d1c1-4696-f796-d3ec2d53ed83"
      },
      "execution_count": 33,
      "outputs": [
        {
          "output_type": "stream",
          "name": "stdout",
          "text": [
            "Model: \"model_2\"\n",
            "_________________________________________________________________\n",
            " Layer (type)                Output Shape              Param #   \n",
            "=================================================================\n",
            " input_3 (InputLayer)        [(None, None)]            0         \n",
            "                                                                 \n",
            " positional_embedding (Posit  (None, None, 256)        5273600   \n",
            " ionalEmbedding)                                                 \n",
            "                                                                 \n",
            " transformer_encoder_2 (Tran  (None, None, 256)        543776    \n",
            " sformerEncoder)                                                 \n",
            "                                                                 \n",
            " global_max_pooling1d_2 (Glo  (None, 256)              0         \n",
            " balMaxPooling1D)                                                \n",
            "                                                                 \n",
            " dropout_2 (Dropout)         (None, 256)               0         \n",
            "                                                                 \n",
            " dense_14 (Dense)            (None, 1)                 257       \n",
            "                                                                 \n",
            "=================================================================\n",
            "Total params: 5,817,633\n",
            "Trainable params: 5,817,633\n",
            "Non-trainable params: 0\n",
            "_________________________________________________________________\n",
            "Epoch 1/20\n",
            "625/625 [==============================] - 68s 104ms/step - loss: 0.5265 - accuracy: 0.7470 - val_loss: 0.3900 - val_accuracy: 0.8230\n",
            "Epoch 2/20\n",
            "625/625 [==============================] - 52s 83ms/step - loss: 0.2932 - accuracy: 0.8781 - val_loss: 0.3149 - val_accuracy: 0.8734\n",
            "Epoch 3/20\n",
            "625/625 [==============================] - 49s 78ms/step - loss: 0.2290 - accuracy: 0.9103 - val_loss: 0.3234 - val_accuracy: 0.8706\n",
            "Epoch 4/20\n",
            "625/625 [==============================] - 48s 76ms/step - loss: 0.1896 - accuracy: 0.9254 - val_loss: 0.3859 - val_accuracy: 0.8588\n",
            "Epoch 5/20\n",
            "625/625 [==============================] - 48s 76ms/step - loss: 0.1567 - accuracy: 0.9413 - val_loss: 0.4612 - val_accuracy: 0.8588\n",
            "Epoch 6/20\n",
            "625/625 [==============================] - 45s 73ms/step - loss: 0.1301 - accuracy: 0.9528 - val_loss: 0.3669 - val_accuracy: 0.8698\n",
            "Epoch 7/20\n",
            "625/625 [==============================] - 47s 75ms/step - loss: 0.1092 - accuracy: 0.9604 - val_loss: 0.4491 - val_accuracy: 0.8676\n",
            "Epoch 8/20\n",
            "625/625 [==============================] - 46s 74ms/step - loss: 0.0912 - accuracy: 0.9669 - val_loss: 0.4601 - val_accuracy: 0.8722\n",
            "Epoch 9/20\n",
            "625/625 [==============================] - 47s 76ms/step - loss: 0.0671 - accuracy: 0.9754 - val_loss: 0.9115 - val_accuracy: 0.8144\n",
            "Epoch 10/20\n",
            "625/625 [==============================] - 46s 73ms/step - loss: 0.0526 - accuracy: 0.9826 - val_loss: 0.6370 - val_accuracy: 0.8678\n",
            "Epoch 11/20\n",
            "625/625 [==============================] - 46s 74ms/step - loss: 0.0416 - accuracy: 0.9856 - val_loss: 0.5583 - val_accuracy: 0.8708\n",
            "Epoch 12/20\n",
            "625/625 [==============================] - 46s 73ms/step - loss: 0.0309 - accuracy: 0.9897 - val_loss: 0.7160 - val_accuracy: 0.8694\n",
            "Epoch 13/20\n",
            "625/625 [==============================] - 46s 74ms/step - loss: 0.0292 - accuracy: 0.9908 - val_loss: 0.6895 - val_accuracy: 0.8698\n",
            "Epoch 14/20\n",
            "625/625 [==============================] - 45s 72ms/step - loss: 0.0211 - accuracy: 0.9935 - val_loss: 1.0003 - val_accuracy: 0.8618\n",
            "Epoch 15/20\n",
            "625/625 [==============================] - 45s 72ms/step - loss: 0.0160 - accuracy: 0.9948 - val_loss: 1.2478 - val_accuracy: 0.8578\n",
            "Epoch 16/20\n",
            "625/625 [==============================] - 45s 72ms/step - loss: 0.0162 - accuracy: 0.9950 - val_loss: 1.2414 - val_accuracy: 0.8578\n",
            "Epoch 17/20\n",
            "625/625 [==============================] - 45s 72ms/step - loss: 0.0154 - accuracy: 0.9958 - val_loss: 1.0761 - val_accuracy: 0.8654\n",
            "Epoch 18/20\n",
            "625/625 [==============================] - 44s 71ms/step - loss: 0.0151 - accuracy: 0.9962 - val_loss: 1.0023 - val_accuracy: 0.8608\n",
            "Epoch 19/20\n",
            "625/625 [==============================] - 45s 72ms/step - loss: 0.0101 - accuracy: 0.9965 - val_loss: 1.2063 - val_accuracy: 0.8588\n",
            "Epoch 20/20\n",
            "625/625 [==============================] - 45s 72ms/step - loss: 0.0120 - accuracy: 0.9961 - val_loss: 1.1026 - val_accuracy: 0.8630\n",
            "782/782 [==============================] - 22s 28ms/step - loss: 0.2928 - accuracy: 0.8789\n",
            "Test acc: 0.879\n"
          ]
        }
      ]
    },
    {
      "cell_type": "code",
      "source": [
        "model.save(\"senti.h5\")"
      ],
      "metadata": {
        "id": "ZPLZH3GS1wsZ"
      },
      "execution_count": 34,
      "outputs": []
    },
    {
      "cell_type": "code",
      "source": [
        "print(\"Predicting accuracy in % {}\".format(\n",
        "    model.predict(text_vectorization([\"I first saw this back in the early 90s on UK TV\"]))))"
      ],
      "metadata": {
        "colab": {
          "base_uri": "https://localhost:8080/"
        },
        "id": "SeEpjoB6LFIg",
        "outputId": "e4cf1bdd-ad89-4698-d5e3-59084f617c5d"
      },
      "execution_count": 35,
      "outputs": [
        {
          "output_type": "stream",
          "name": "stdout",
          "text": [
            "1/1 [==============================] - 0s 340ms/step\n",
            "Predicting accuracy in % [[0.6103377]]\n"
          ]
        }
      ]
    }
  ]
}